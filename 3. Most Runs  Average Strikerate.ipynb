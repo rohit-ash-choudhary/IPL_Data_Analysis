{
 "cells": [
  {
   "cell_type": "code",
   "execution_count": 1,
   "metadata": {},
   "outputs": [],
   "source": [
    "import numpy as np\n",
    "import pandas as pd\n",
    "import matplotlib.pyplot as plt\n",
    "import seaborn as sns\n"
   ]
  },
  {
   "cell_type": "code",
   "execution_count": 3,
   "metadata": {},
   "outputs": [
    {
     "data": {
      "text/html": [
       "<div>\n",
       "<style scoped>\n",
       "    .dataframe tbody tr th:only-of-type {\n",
       "        vertical-align: middle;\n",
       "    }\n",
       "\n",
       "    .dataframe tbody tr th {\n",
       "        vertical-align: top;\n",
       "    }\n",
       "\n",
       "    .dataframe thead th {\n",
       "        text-align: right;\n",
       "    }\n",
       "</style>\n",
       "<table border=\"1\" class=\"dataframe\">\n",
       "  <thead>\n",
       "    <tr style=\"text-align: right;\">\n",
       "      <th></th>\n",
       "      <th>batsman</th>\n",
       "      <th>total_runs</th>\n",
       "      <th>out</th>\n",
       "      <th>numberofballs</th>\n",
       "      <th>average</th>\n",
       "      <th>strikerate</th>\n",
       "    </tr>\n",
       "  </thead>\n",
       "  <tbody>\n",
       "    <tr>\n",
       "      <th>0</th>\n",
       "      <td>V Kohli</td>\n",
       "      <td>5426</td>\n",
       "      <td>152</td>\n",
       "      <td>4111</td>\n",
       "      <td>35.697368</td>\n",
       "      <td>131.987351</td>\n",
       "    </tr>\n",
       "    <tr>\n",
       "      <th>1</th>\n",
       "      <td>SK Raina</td>\n",
       "      <td>5386</td>\n",
       "      <td>160</td>\n",
       "      <td>3916</td>\n",
       "      <td>33.662500</td>\n",
       "      <td>137.538304</td>\n",
       "    </tr>\n",
       "    <tr>\n",
       "      <th>2</th>\n",
       "      <td>RG Sharma</td>\n",
       "      <td>4902</td>\n",
       "      <td>161</td>\n",
       "      <td>3742</td>\n",
       "      <td>30.447205</td>\n",
       "      <td>130.999466</td>\n",
       "    </tr>\n",
       "    <tr>\n",
       "      <th>3</th>\n",
       "      <td>DA Warner</td>\n",
       "      <td>4717</td>\n",
       "      <td>114</td>\n",
       "      <td>3292</td>\n",
       "      <td>41.377193</td>\n",
       "      <td>143.286756</td>\n",
       "    </tr>\n",
       "    <tr>\n",
       "      <th>4</th>\n",
       "      <td>S Dhawan</td>\n",
       "      <td>4601</td>\n",
       "      <td>137</td>\n",
       "      <td>3665</td>\n",
       "      <td>33.583942</td>\n",
       "      <td>125.538881</td>\n",
       "    </tr>\n",
       "    <tr>\n",
       "      <th>...</th>\n",
       "      <td>...</td>\n",
       "      <td>...</td>\n",
       "      <td>...</td>\n",
       "      <td>...</td>\n",
       "      <td>...</td>\n",
       "      <td>...</td>\n",
       "    </tr>\n",
       "    <tr>\n",
       "      <th>511</th>\n",
       "      <td>ND Doshi</td>\n",
       "      <td>0</td>\n",
       "      <td>1</td>\n",
       "      <td>13</td>\n",
       "      <td>0.000000</td>\n",
       "      <td>0.000000</td>\n",
       "    </tr>\n",
       "    <tr>\n",
       "      <th>512</th>\n",
       "      <td>J Denly</td>\n",
       "      <td>0</td>\n",
       "      <td>1</td>\n",
       "      <td>1</td>\n",
       "      <td>0.000000</td>\n",
       "      <td>0.000000</td>\n",
       "    </tr>\n",
       "    <tr>\n",
       "      <th>513</th>\n",
       "      <td>S Ladda</td>\n",
       "      <td>0</td>\n",
       "      <td>2</td>\n",
       "      <td>9</td>\n",
       "      <td>0.000000</td>\n",
       "      <td>0.000000</td>\n",
       "    </tr>\n",
       "    <tr>\n",
       "      <th>514</th>\n",
       "      <td>V Pratap Singh</td>\n",
       "      <td>0</td>\n",
       "      <td>1</td>\n",
       "      <td>1</td>\n",
       "      <td>0.000000</td>\n",
       "      <td>0.000000</td>\n",
       "    </tr>\n",
       "    <tr>\n",
       "      <th>515</th>\n",
       "      <td>S Kaushik</td>\n",
       "      <td>0</td>\n",
       "      <td>1</td>\n",
       "      <td>1</td>\n",
       "      <td>0.000000</td>\n",
       "      <td>0.000000</td>\n",
       "    </tr>\n",
       "  </tbody>\n",
       "</table>\n",
       "<p>516 rows × 6 columns</p>\n",
       "</div>"
      ],
      "text/plain": [
       "            batsman  total_runs  out  numberofballs    average  strikerate\n",
       "0           V Kohli        5426  152           4111  35.697368  131.987351\n",
       "1          SK Raina        5386  160           3916  33.662500  137.538304\n",
       "2         RG Sharma        4902  161           3742  30.447205  130.999466\n",
       "3         DA Warner        4717  114           3292  41.377193  143.286756\n",
       "4          S Dhawan        4601  137           3665  33.583942  125.538881\n",
       "..              ...         ...  ...            ...        ...         ...\n",
       "511        ND Doshi           0    1             13   0.000000    0.000000\n",
       "512         J Denly           0    1              1   0.000000    0.000000\n",
       "513         S Ladda           0    2              9   0.000000    0.000000\n",
       "514  V Pratap Singh           0    1              1   0.000000    0.000000\n",
       "515       S Kaushik           0    1              1   0.000000    0.000000\n",
       "\n",
       "[516 rows x 6 columns]"
      ]
     },
     "execution_count": 3,
     "metadata": {},
     "output_type": "execute_result"
    }
   ],
   "source": [
    "StrikeRare=pd.read_csv(\"C:\\\\Users\\\\Ashhh Choudhary\\\\Downloads\\\\archive (1)\\\\most_runs_average_strikerate.csv\")\n",
    "StrikeRare"
   ]
  },
  {
   "cell_type": "code",
   "execution_count": 4,
   "metadata": {},
   "outputs": [],
   "source": [
    "pd.set_option(\"display.max_columns\",None)\n",
    "pd.set_option(\"display.max_columns\",None)"
   ]
  },
  {
   "cell_type": "code",
   "execution_count": 10,
   "metadata": {},
   "outputs": [
    {
     "name": "stderr",
     "output_type": "stream",
     "text": [
      "C:\\Users\\Ashhh Choudhary\\anaconda3\\lib\\site-packages\\seaborn\\distributions.py:2551: FutureWarning: `distplot` is a deprecated function and will be removed in a future version. Please adapt your code to use either `displot` (a figure-level function with similar flexibility) or `histplot` (an axes-level function for histograms).\n",
      "  warnings.warn(msg, FutureWarning)\n"
     ]
    },
    {
     "data": {
      "text/plain": [
       "<AxesSubplot:xlabel='average', ylabel='Density'>"
      ]
     },
     "execution_count": 10,
     "metadata": {},
     "output_type": "execute_result"
    },
    {
     "data": {
      "image/png": "[encoded data removed]",
      "text/plain": [
       "<Figure size 720x720 with 1 Axes>"
      ]
     },
     "metadata": {
      "needs_background": "light"
     },
     "output_type": "display_data"
    }
   ],
   "source": [
    "plt.figure(figsize=(10,10))\n",
    "sns.distplot(StrikeRare[\"average\"])"
   ]
  },
  {
   "cell_type": "code",
   "execution_count": 11,
   "metadata": {},
   "outputs": [
    {
     "name": "stderr",
     "output_type": "stream",
     "text": [
      "C:\\Users\\Ashhh Choudhary\\anaconda3\\lib\\site-packages\\seaborn\\distributions.py:2551: FutureWarning: `distplot` is a deprecated function and will be removed in a future version. Please adapt your code to use either `displot` (a figure-level function with similar flexibility) or `histplot` (an axes-level function for histograms).\n",
      "  warnings.warn(msg, FutureWarning)\n"
     ]
    },
    {
     "data": {
      "text/plain": [
       "<AxesSubplot:xlabel='total_runs', ylabel='Density'>"
      ]
     },
     "execution_count": 11,
     "metadata": {},
     "output_type": "execute_result"
    },
    {
     "data": {
      "image/png": "[encoded data removed]",
      "text/plain": [
       "<Figure size 720x720 with 1 Axes>"
      ]
     },
     "metadata": {
      "needs_background": "light"
     },
     "output_type": "display_data"
    }
   ],
   "source": [
    "plt.figure(figsize=(10,10))\n",
    "sns.distplot(StrikeRare[\"total_runs\"])"
   ]
  },
  {
   "cell_type": "code",
   "execution_count": 13,
   "metadata": {},
   "outputs": [
    {
     "data": {
      "text/html": [
       "<div>\n",
       "<style scoped>\n",
       "    .dataframe tbody tr th:only-of-type {\n",
       "        vertical-align: middle;\n",
       "    }\n",
       "\n",
       "    .dataframe tbody tr th {\n",
       "        vertical-align: top;\n",
       "    }\n",
       "\n",
       "    .dataframe thead th {\n",
       "        text-align: right;\n",
       "    }\n",
       "</style>\n",
       "<table border=\"1\" class=\"dataframe\">\n",
       "  <thead>\n",
       "    <tr style=\"text-align: right;\">\n",
       "      <th></th>\n",
       "      <th>batsman</th>\n",
       "      <th>strikerate</th>\n",
       "    </tr>\n",
       "  </thead>\n",
       "  <tbody>\n",
       "    <tr>\n",
       "      <th>0</th>\n",
       "      <td>V Kohli</td>\n",
       "      <td>131.987351</td>\n",
       "    </tr>\n",
       "    <tr>\n",
       "      <th>1</th>\n",
       "      <td>SK Raina</td>\n",
       "      <td>137.538304</td>\n",
       "    </tr>\n",
       "    <tr>\n",
       "      <th>2</th>\n",
       "      <td>RG Sharma</td>\n",
       "      <td>130.999466</td>\n",
       "    </tr>\n",
       "    <tr>\n",
       "      <th>3</th>\n",
       "      <td>DA Warner</td>\n",
       "      <td>143.286756</td>\n",
       "    </tr>\n",
       "    <tr>\n",
       "      <th>4</th>\n",
       "      <td>S Dhawan</td>\n",
       "      <td>125.538881</td>\n",
       "    </tr>\n",
       "    <tr>\n",
       "      <th>...</th>\n",
       "      <td>...</td>\n",
       "      <td>...</td>\n",
       "    </tr>\n",
       "    <tr>\n",
       "      <th>511</th>\n",
       "      <td>ND Doshi</td>\n",
       "      <td>0.000000</td>\n",
       "    </tr>\n",
       "    <tr>\n",
       "      <th>512</th>\n",
       "      <td>J Denly</td>\n",
       "      <td>0.000000</td>\n",
       "    </tr>\n",
       "    <tr>\n",
       "      <th>513</th>\n",
       "      <td>S Ladda</td>\n",
       "      <td>0.000000</td>\n",
       "    </tr>\n",
       "    <tr>\n",
       "      <th>514</th>\n",
       "      <td>V Pratap Singh</td>\n",
       "      <td>0.000000</td>\n",
       "    </tr>\n",
       "    <tr>\n",
       "      <th>515</th>\n",
       "      <td>S Kaushik</td>\n",
       "      <td>0.000000</td>\n",
       "    </tr>\n",
       "  </tbody>\n",
       "</table>\n",
       "<p>516 rows × 2 columns</p>\n",
       "</div>"
      ],
      "text/plain": [
       "            batsman  strikerate\n",
       "0           V Kohli  131.987351\n",
       "1          SK Raina  137.538304\n",
       "2         RG Sharma  130.999466\n",
       "3         DA Warner  143.286756\n",
       "4          S Dhawan  125.538881\n",
       "..              ...         ...\n",
       "511        ND Doshi    0.000000\n",
       "512         J Denly    0.000000\n",
       "513         S Ladda    0.000000\n",
       "514  V Pratap Singh    0.000000\n",
       "515       S Kaushik    0.000000\n",
       "\n",
       "[516 rows x 2 columns]"
      ]
     },
     "execution_count": 13,
     "metadata": {},
     "output_type": "execute_result"
    }
   ],
   "source": [
    "top_strikeratplayer=StrikeRare.drop(columns=[\"total_runs\",\"out\",\"numberofballs\",\"average\"])\n",
    "top_strikeratplayer"
   ]
  },
  {
   "cell_type": "markdown",
   "metadata": {},
   "source": [
    "# # Top ten most strike rate Player\n"
   ]
  },
  {
   "cell_type": "code",
   "execution_count": 49,
   "metadata": {},
   "outputs": [
    {
     "data": {
      "text/plain": [
       "(array([ 21.,  24.,  56.,  84., 159., 127.,  35.,   4.,   4.,   2.]),\n",
       " array([  0.,  25.,  50.,  75., 100., 125., 150., 175., 200., 225., 250.]),\n",
       " <BarContainer object of 10 artists>)"
      ]
     },
     "execution_count": 49,
     "metadata": {},
     "output_type": "execute_result"
    },
    {
     "data": {
      "image/png": "[encoded data removed]",
      "text/plain": [
       "<Figure size 1080x720 with 1 Axes>"
      ]
     },
     "metadata": {
      "needs_background": "light"
     },
     "output_type": "display_data"
    }
   ],
   "source": [
    "plt.figure(figsize=(15,10))\n",
    "plt.hist(StrikeRare[\"strikerate\"],bins=10,rwidth=.3)"
   ]
  },
  {
   "cell_type": "code",
   "execution_count": 15,
   "metadata": {},
   "outputs": [
    {
     "data": {
      "text/html": [
       "<div>\n",
       "<style scoped>\n",
       "    .dataframe tbody tr th:only-of-type {\n",
       "        vertical-align: middle;\n",
       "    }\n",
       "\n",
       "    .dataframe tbody tr th {\n",
       "        vertical-align: top;\n",
       "    }\n",
       "\n",
       "    .dataframe thead th {\n",
       "        text-align: right;\n",
       "    }\n",
       "</style>\n",
       "<table border=\"1\" class=\"dataframe\">\n",
       "  <thead>\n",
       "    <tr style=\"text-align: right;\">\n",
       "      <th></th>\n",
       "      <th>batsman</th>\n",
       "      <th>strikerate</th>\n",
       "    </tr>\n",
       "  </thead>\n",
       "  <tbody>\n",
       "    <tr>\n",
       "      <th>443</th>\n",
       "      <td>B Stanlake</td>\n",
       "      <td>250.000000</td>\n",
       "    </tr>\n",
       "    <tr>\n",
       "      <th>449</th>\n",
       "      <td>KMDN Kulasekara</td>\n",
       "      <td>250.000000</td>\n",
       "    </tr>\n",
       "    <tr>\n",
       "      <th>301</th>\n",
       "      <td>Umar Gul</td>\n",
       "      <td>205.263158</td>\n",
       "    </tr>\n",
       "    <tr>\n",
       "      <th>441</th>\n",
       "      <td>S Sharma</td>\n",
       "      <td>200.000000</td>\n",
       "    </tr>\n",
       "    <tr>\n",
       "      <th>461</th>\n",
       "      <td>RS Sodhi</td>\n",
       "      <td>200.000000</td>\n",
       "    </tr>\n",
       "    <tr>\n",
       "      <th>462</th>\n",
       "      <td>VRV Singh</td>\n",
       "      <td>200.000000</td>\n",
       "    </tr>\n",
       "    <tr>\n",
       "      <th>49</th>\n",
       "      <td>AD Russell</td>\n",
       "      <td>188.164894</td>\n",
       "    </tr>\n",
       "    <tr>\n",
       "      <th>225</th>\n",
       "      <td>LJ Wright</td>\n",
       "      <td>176.666667</td>\n",
       "    </tr>\n",
       "    <tr>\n",
       "      <th>250</th>\n",
       "      <td>Shahid Afridi</td>\n",
       "      <td>176.086957</td>\n",
       "    </tr>\n",
       "    <tr>\n",
       "      <th>433</th>\n",
       "      <td>I Malhotra</td>\n",
       "      <td>175.000000</td>\n",
       "    </tr>\n",
       "  </tbody>\n",
       "</table>\n",
       "</div>"
      ],
      "text/plain": [
       "             batsman  strikerate\n",
       "443       B Stanlake  250.000000\n",
       "449  KMDN Kulasekara  250.000000\n",
       "301         Umar Gul  205.263158\n",
       "441         S Sharma  200.000000\n",
       "461         RS Sodhi  200.000000\n",
       "462        VRV Singh  200.000000\n",
       "49        AD Russell  188.164894\n",
       "225        LJ Wright  176.666667\n",
       "250    Shahid Afridi  176.086957\n",
       "433       I Malhotra  175.000000"
      ]
     },
     "execution_count": 15,
     "metadata": {},
     "output_type": "execute_result"
    }
   ],
   "source": [
    "tenlargeststrk=top_strikeratplayer.nlargest(10,[\"strikerate\"])\n",
    "tenlargeststrk"
   ]
  },
  {
   "cell_type": "code",
   "execution_count": 55,
   "metadata": {},
   "outputs": [
    {
     "data": {
      "text/plain": [
       "<BarContainer object of 10 artists>"
      ]
     },
     "execution_count": 55,
     "metadata": {},
     "output_type": "execute_result"
    },
    {
     "data": {
      "image/png": "[encoded data removed]",
      "text/plain": [
       "<Figure size 1440x720 with 1 Axes>"
      ]
     },
     "metadata": {
      "needs_background": "light"
     },
     "output_type": "display_data"
    }
   ],
   "source": [
    "toptenBatsman=list(tenlargeststrk[\"batsman\"])\n",
    "toptenstrk=list(tenlargeststrk[\"strikerate\"])\n",
    "plt.figure(figsize=(20,10))\n",
    "plt.title(\"Ten Most strike Rate Player\",fontsize=25,color=\"r\")\n",
    "plt.bar(toptenBatsman,toptenstrk,width=.3,)"
   ]
  },
  {
   "cell_type": "code",
   "execution_count": 24,
   "metadata": {},
   "outputs": [
    {
     "name": "stderr",
     "output_type": "stream",
     "text": [
      "C:\\Users\\Ashhh Choudhary\\anaconda3\\lib\\site-packages\\seaborn\\distributions.py:2551: FutureWarning: `distplot` is a deprecated function and will be removed in a future version. Please adapt your code to use either `displot` (a figure-level function with similar flexibility) or `histplot` (an axes-level function for histograms).\n",
      "  warnings.warn(msg, FutureWarning)\n"
     ]
    },
    {
     "data": {
      "text/plain": [
       "<AxesSubplot:xlabel='out', ylabel='Density'>"
      ]
     },
     "execution_count": 24,
     "metadata": {},
     "output_type": "execute_result"
    },
    {
     "data": {
      "image/png": "[encoded data removed]",
      "text/plain": [
       "<Figure size 720x720 with 1 Axes>"
      ]
     },
     "metadata": {
      "needs_background": "light"
     },
     "output_type": "display_data"
    }
   ],
   "source": [
    "plt.figure(figsize=(10,10))\n",
    "sns.distplot(StrikeRare[\"out\"])"
   ]
  },
  {
   "cell_type": "markdown",
   "metadata": {},
   "source": [
    "# # Top ten player with maximum Runs"
   ]
  },
  {
   "cell_type": "code",
   "execution_count": 48,
   "metadata": {},
   "outputs": [
    {
     "data": {
      "text/plain": [
       "(array([413.,  40.,  19.,  16.,   7.,   7.,   3.,   4.,   4.,   3.]),\n",
       " array([1.000e+00, 4.120e+02, 8.230e+02, 1.234e+03, 1.645e+03, 2.056e+03,\n",
       "        2.467e+03, 2.878e+03, 3.289e+03, 3.700e+03, 4.111e+03]),\n",
       " <BarContainer object of 10 artists>)"
      ]
     },
     "execution_count": 48,
     "metadata": {},
     "output_type": "execute_result"
    },
    {
     "data": {
      "image/png": "[encoded data removed]",
      "text/plain": [
       "<Figure size 1080x720 with 1 Axes>"
      ]
     },
     "metadata": {
      "needs_background": "light"
     },
     "output_type": "display_data"
    }
   ],
   "source": [
    "plt.figure(figsize=(15,10))\n",
    "plt.hist(StrikeRare[\"numberofballs\"],bins=10,rwidth=.3)"
   ]
  },
  {
   "cell_type": "code",
   "execution_count": 26,
   "metadata": {},
   "outputs": [
    {
     "data": {
      "text/html": [
       "<div>\n",
       "<style scoped>\n",
       "    .dataframe tbody tr th:only-of-type {\n",
       "        vertical-align: middle;\n",
       "    }\n",
       "\n",
       "    .dataframe tbody tr th {\n",
       "        vertical-align: top;\n",
       "    }\n",
       "\n",
       "    .dataframe thead th {\n",
       "        text-align: right;\n",
       "    }\n",
       "</style>\n",
       "<table border=\"1\" class=\"dataframe\">\n",
       "  <thead>\n",
       "    <tr style=\"text-align: right;\">\n",
       "      <th></th>\n",
       "      <th>batsman</th>\n",
       "      <th>total_runs</th>\n",
       "      <th>out</th>\n",
       "      <th>numberofballs</th>\n",
       "      <th>average</th>\n",
       "      <th>strikerate</th>\n",
       "    </tr>\n",
       "  </thead>\n",
       "  <tbody>\n",
       "    <tr>\n",
       "      <th>0</th>\n",
       "      <td>V Kohli</td>\n",
       "      <td>5426</td>\n",
       "      <td>152</td>\n",
       "      <td>4111</td>\n",
       "      <td>35.697368</td>\n",
       "      <td>131.987351</td>\n",
       "    </tr>\n",
       "    <tr>\n",
       "      <th>1</th>\n",
       "      <td>SK Raina</td>\n",
       "      <td>5386</td>\n",
       "      <td>160</td>\n",
       "      <td>3916</td>\n",
       "      <td>33.662500</td>\n",
       "      <td>137.538304</td>\n",
       "    </tr>\n",
       "    <tr>\n",
       "      <th>2</th>\n",
       "      <td>RG Sharma</td>\n",
       "      <td>4902</td>\n",
       "      <td>161</td>\n",
       "      <td>3742</td>\n",
       "      <td>30.447205</td>\n",
       "      <td>130.999466</td>\n",
       "    </tr>\n",
       "    <tr>\n",
       "      <th>3</th>\n",
       "      <td>DA Warner</td>\n",
       "      <td>4717</td>\n",
       "      <td>114</td>\n",
       "      <td>3292</td>\n",
       "      <td>41.377193</td>\n",
       "      <td>143.286756</td>\n",
       "    </tr>\n",
       "    <tr>\n",
       "      <th>4</th>\n",
       "      <td>S Dhawan</td>\n",
       "      <td>4601</td>\n",
       "      <td>137</td>\n",
       "      <td>3665</td>\n",
       "      <td>33.583942</td>\n",
       "      <td>125.538881</td>\n",
       "    </tr>\n",
       "    <tr>\n",
       "      <th>5</th>\n",
       "      <td>CH Gayle</td>\n",
       "      <td>4525</td>\n",
       "      <td>110</td>\n",
       "      <td>2972</td>\n",
       "      <td>41.136364</td>\n",
       "      <td>152.254374</td>\n",
       "    </tr>\n",
       "    <tr>\n",
       "      <th>6</th>\n",
       "      <td>MS Dhoni</td>\n",
       "      <td>4450</td>\n",
       "      <td>118</td>\n",
       "      <td>3206</td>\n",
       "      <td>37.711864</td>\n",
       "      <td>138.802246</td>\n",
       "    </tr>\n",
       "    <tr>\n",
       "      <th>7</th>\n",
       "      <td>RV Uthappa</td>\n",
       "      <td>4420</td>\n",
       "      <td>156</td>\n",
       "      <td>3381</td>\n",
       "      <td>28.333333</td>\n",
       "      <td>130.730553</td>\n",
       "    </tr>\n",
       "    <tr>\n",
       "      <th>8</th>\n",
       "      <td>AB de Villiers</td>\n",
       "      <td>4414</td>\n",
       "      <td>104</td>\n",
       "      <td>2902</td>\n",
       "      <td>42.442308</td>\n",
       "      <td>152.101999</td>\n",
       "    </tr>\n",
       "    <tr>\n",
       "      <th>9</th>\n",
       "      <td>G Gambhir</td>\n",
       "      <td>4219</td>\n",
       "      <td>134</td>\n",
       "      <td>3400</td>\n",
       "      <td>31.485075</td>\n",
       "      <td>124.088235</td>\n",
       "    </tr>\n",
       "  </tbody>\n",
       "</table>\n",
       "</div>"
      ],
      "text/plain": [
       "          batsman  total_runs  out  numberofballs    average  strikerate\n",
       "0         V Kohli        5426  152           4111  35.697368  131.987351\n",
       "1        SK Raina        5386  160           3916  33.662500  137.538304\n",
       "2       RG Sharma        4902  161           3742  30.447205  130.999466\n",
       "3       DA Warner        4717  114           3292  41.377193  143.286756\n",
       "4        S Dhawan        4601  137           3665  33.583942  125.538881\n",
       "5        CH Gayle        4525  110           2972  41.136364  152.254374\n",
       "6        MS Dhoni        4450  118           3206  37.711864  138.802246\n",
       "7      RV Uthappa        4420  156           3381  28.333333  130.730553\n",
       "8  AB de Villiers        4414  104           2902  42.442308  152.101999\n",
       "9       G Gambhir        4219  134           3400  31.485075  124.088235"
      ]
     },
     "execution_count": 26,
     "metadata": {},
     "output_type": "execute_result"
    }
   ],
   "source": [
    "top_ten_most_rum=StrikeRare.nlargest(10,[\"total_runs\"])\n",
    "top_ten_most_rum"
   ]
  },
  {
   "cell_type": "code",
   "execution_count": 30,
   "metadata": {},
   "outputs": [
    {
     "data": {
      "text/plain": [
       "<seaborn.axisgrid.FacetGrid at 0x2cce0519f70>"
      ]
     },
     "execution_count": 30,
     "metadata": {},
     "output_type": "execute_result"
    },
    {
     "data": {
      "text/plain": [
       "<Figure size 720x720 with 0 Axes>"
      ]
     },
     "metadata": {},
     "output_type": "display_data"
    },
    {
     "data": {
      "image/png": "[encoded data removed]",
      "text/plain": [
       "<Figure size 360x360 with 1 Axes>"
      ]
     },
     "metadata": {
      "needs_background": "light"
     },
     "output_type": "display_data"
    }
   ],
   "source": [
    "plt.figure(figsize=(10,10))\n",
    "sns.displot(StrikeRare[\"total_runs\"])"
   ]
  },
  {
   "cell_type": "code",
   "execution_count": 56,
   "metadata": {},
   "outputs": [
    {
     "data": {
      "text/plain": [
       "<BarContainer object of 10 artists>"
      ]
     },
     "execution_count": 56,
     "metadata": {},
     "output_type": "execute_result"
    },
    {
     "data": {
      "image/png": "[encoded data removed]",
      "text/plain": [
       "<Figure size 864x720 with 1 Axes>"
      ]
     },
     "metadata": {
      "needs_background": "light"
     },
     "output_type": "display_data"
    }
   ],
   "source": [
    "plt.figure(figsize=(12,10))\n",
    "plt.title(\"TOP Ten Player With Maximum Run\",fontsize=25,color=\"r\")\n",
    "plt.bar(top_ten_most_rum[\"batsman\"],top_ten_most_rum[\"total_runs\"],width=.3)"
   ]
  },
  {
   "cell_type": "markdown",
   "metadata": {},
   "source": [
    "# Top ten player play maximum number of balls"
   ]
  },
  {
   "cell_type": "code",
   "execution_count": 46,
   "metadata": {},
   "outputs": [
    {
     "data": {
      "text/plain": [
       "(array([413.,  40.,  19.,  16.,   7.,   7.,   3.,   4.,   4.,   3.]),\n",
       " array([1.000e+00, 4.120e+02, 8.230e+02, 1.234e+03, 1.645e+03, 2.056e+03,\n",
       "        2.467e+03, 2.878e+03, 3.289e+03, 3.700e+03, 4.111e+03]),\n",
       " <BarContainer object of 10 artists>)"
      ]
     },
     "execution_count": 46,
     "metadata": {},
     "output_type": "execute_result"
    },
    {
     "data": {
      "image/png": "[encoded data removed]",
      "text/plain": [
       "<Figure size 1080x720 with 1 Axes>"
      ]
     },
     "metadata": {
      "needs_background": "light"
     },
     "output_type": "display_data"
    }
   ],
   "source": [
    "plt.figure(figsize=(15,10))\n",
    "plt.hist(StrikeRare[\"numberofballs\"],bins=10,rwidth=0.2)"
   ]
  },
  {
   "cell_type": "code",
   "execution_count": 35,
   "metadata": {},
   "outputs": [
    {
     "data": {
      "text/html": [
       "<div>\n",
       "<style scoped>\n",
       "    .dataframe tbody tr th:only-of-type {\n",
       "        vertical-align: middle;\n",
       "    }\n",
       "\n",
       "    .dataframe tbody tr th {\n",
       "        vertical-align: top;\n",
       "    }\n",
       "\n",
       "    .dataframe thead th {\n",
       "        text-align: right;\n",
       "    }\n",
       "</style>\n",
       "<table border=\"1\" class=\"dataframe\">\n",
       "  <thead>\n",
       "    <tr style=\"text-align: right;\">\n",
       "      <th></th>\n",
       "      <th>batsman</th>\n",
       "      <th>total_runs</th>\n",
       "      <th>out</th>\n",
       "      <th>numberofballs</th>\n",
       "      <th>average</th>\n",
       "      <th>strikerate</th>\n",
       "    </tr>\n",
       "  </thead>\n",
       "  <tbody>\n",
       "    <tr>\n",
       "      <th>0</th>\n",
       "      <td>V Kohli</td>\n",
       "      <td>5426</td>\n",
       "      <td>152</td>\n",
       "      <td>4111</td>\n",
       "      <td>35.697368</td>\n",
       "      <td>131.987351</td>\n",
       "    </tr>\n",
       "    <tr>\n",
       "      <th>1</th>\n",
       "      <td>SK Raina</td>\n",
       "      <td>5386</td>\n",
       "      <td>160</td>\n",
       "      <td>3916</td>\n",
       "      <td>33.662500</td>\n",
       "      <td>137.538304</td>\n",
       "    </tr>\n",
       "    <tr>\n",
       "      <th>2</th>\n",
       "      <td>RG Sharma</td>\n",
       "      <td>4902</td>\n",
       "      <td>161</td>\n",
       "      <td>3742</td>\n",
       "      <td>30.447205</td>\n",
       "      <td>130.999466</td>\n",
       "    </tr>\n",
       "    <tr>\n",
       "      <th>4</th>\n",
       "      <td>S Dhawan</td>\n",
       "      <td>4601</td>\n",
       "      <td>137</td>\n",
       "      <td>3665</td>\n",
       "      <td>33.583942</td>\n",
       "      <td>125.538881</td>\n",
       "    </tr>\n",
       "    <tr>\n",
       "      <th>9</th>\n",
       "      <td>G Gambhir</td>\n",
       "      <td>4219</td>\n",
       "      <td>134</td>\n",
       "      <td>3400</td>\n",
       "      <td>31.485075</td>\n",
       "      <td>124.088235</td>\n",
       "    </tr>\n",
       "    <tr>\n",
       "      <th>7</th>\n",
       "      <td>RV Uthappa</td>\n",
       "      <td>4420</td>\n",
       "      <td>156</td>\n",
       "      <td>3381</td>\n",
       "      <td>28.333333</td>\n",
       "      <td>130.730553</td>\n",
       "    </tr>\n",
       "    <tr>\n",
       "      <th>3</th>\n",
       "      <td>DA Warner</td>\n",
       "      <td>4717</td>\n",
       "      <td>114</td>\n",
       "      <td>3292</td>\n",
       "      <td>41.377193</td>\n",
       "      <td>143.286756</td>\n",
       "    </tr>\n",
       "    <tr>\n",
       "      <th>6</th>\n",
       "      <td>MS Dhoni</td>\n",
       "      <td>4450</td>\n",
       "      <td>118</td>\n",
       "      <td>3206</td>\n",
       "      <td>37.711864</td>\n",
       "      <td>138.802246</td>\n",
       "    </tr>\n",
       "    <tr>\n",
       "      <th>10</th>\n",
       "      <td>AM Rahane</td>\n",
       "      <td>3834</td>\n",
       "      <td>117</td>\n",
       "      <td>3133</td>\n",
       "      <td>32.769231</td>\n",
       "      <td>122.374721</td>\n",
       "    </tr>\n",
       "    <tr>\n",
       "      <th>5</th>\n",
       "      <td>CH Gayle</td>\n",
       "      <td>4525</td>\n",
       "      <td>110</td>\n",
       "      <td>2972</td>\n",
       "      <td>41.136364</td>\n",
       "      <td>152.254374</td>\n",
       "    </tr>\n",
       "  </tbody>\n",
       "</table>\n",
       "</div>"
      ],
      "text/plain": [
       "       batsman  total_runs  out  numberofballs    average  strikerate\n",
       "0      V Kohli        5426  152           4111  35.697368  131.987351\n",
       "1     SK Raina        5386  160           3916  33.662500  137.538304\n",
       "2    RG Sharma        4902  161           3742  30.447205  130.999466\n",
       "4     S Dhawan        4601  137           3665  33.583942  125.538881\n",
       "9    G Gambhir        4219  134           3400  31.485075  124.088235\n",
       "7   RV Uthappa        4420  156           3381  28.333333  130.730553\n",
       "3    DA Warner        4717  114           3292  41.377193  143.286756\n",
       "6     MS Dhoni        4450  118           3206  37.711864  138.802246\n",
       "10   AM Rahane        3834  117           3133  32.769231  122.374721\n",
       "5     CH Gayle        4525  110           2972  41.136364  152.254374"
      ]
     },
     "execution_count": 35,
     "metadata": {},
     "output_type": "execute_result"
    }
   ],
   "source": [
    "top_ten_player_play_most_balls=StrikeRare.nlargest(10,[\"numberofballs\"])\n",
    "top_ten_player_play_most_balls"
   ]
  },
  {
   "cell_type": "code",
   "execution_count": 36,
   "metadata": {},
   "outputs": [
    {
     "name": "stderr",
     "output_type": "stream",
     "text": [
      "C:\\Users\\Ashhh Choudhary\\anaconda3\\lib\\site-packages\\seaborn\\distributions.py:2551: FutureWarning: `distplot` is a deprecated function and will be removed in a future version. Please adapt your code to use either `displot` (a figure-level function with similar flexibility) or `histplot` (an axes-level function for histograms).\n",
      "  warnings.warn(msg, FutureWarning)\n"
     ]
    },
    {
     "data": {
      "text/plain": [
       "<AxesSubplot:xlabel='numberofballs', ylabel='Density'>"
      ]
     },
     "execution_count": 36,
     "metadata": {},
     "output_type": "execute_result"
    },
    {
     "data": {
      "image/png": "[encoded data removed]",
      "text/plain": [
       "<Figure size 1080x720 with 1 Axes>"
      ]
     },
     "metadata": {
      "needs_background": "light"
     },
     "output_type": "display_data"
    }
   ],
   "source": [
    "plt.figure(figsize=(15,10))\n",
    "sns.distplot(StrikeRare[\"numberofballs\"])"
   ]
  },
  {
   "cell_type": "code",
   "execution_count": 57,
   "metadata": {},
   "outputs": [
    {
     "data": {
      "text/plain": [
       "<BarContainer object of 10 artists>"
      ]
     },
     "execution_count": 57,
     "metadata": {},
     "output_type": "execute_result"
    },
    {
     "data": {
      "image/png": "[encoded data removed]",
      "text/plain": [
       "<Figure size 1080x720 with 1 Axes>"
      ]
     },
     "metadata": {
      "needs_background": "light"
     },
     "output_type": "display_data"
    }
   ],
   "source": [
    "plt.figure(figsize=(15,10))\n",
    "plt.title(\"TOP Ten Player Play Maximum Balls\",fontsize=25,color=\"r\")\n",
    "plt.bar(top_ten_player_play_most_balls[\"batsman\"],top_ten_player_play_most_balls[\"numberofballs\"],width=.3)"
   ]
  },
  {
   "cell_type": "markdown",
   "metadata": {},
   "source": [
    "# Top ten player with maximum average"
   ]
  },
  {
   "cell_type": "code",
   "execution_count": 45,
   "metadata": {},
   "outputs": [
    {
     "data": {
      "text/plain": [
       "(array([133., 149., 107.,  66.,  22.,   2.,   2.,   0.,   0.,   1.]),\n",
       " array([ 0. ,  8.8, 17.6, 26.4, 35.2, 44. , 52.8, 61.6, 70.4, 79.2, 88. ]),\n",
       " <BarContainer object of 10 artists>)"
      ]
     },
     "execution_count": 45,
     "metadata": {},
     "output_type": "execute_result"
    },
    {
     "data": {
      "image/png": "[encoded data removed]",
      "text/plain": [
       "<Figure size 1080x720 with 1 Axes>"
      ]
     },
     "metadata": {
      "needs_background": "light"
     },
     "output_type": "display_data"
    }
   ],
   "source": [
    "plt.figure(figsize=(15,10))\n",
    "plt.hist(StrikeRare[\"average\"],bins=10,rwidth=0.2)"
   ]
  },
  {
   "cell_type": "code",
   "execution_count": 39,
   "metadata": {},
   "outputs": [
    {
     "data": {
      "text/html": [
       "<div>\n",
       "<style scoped>\n",
       "    .dataframe tbody tr th:only-of-type {\n",
       "        vertical-align: middle;\n",
       "    }\n",
       "\n",
       "    .dataframe tbody tr th {\n",
       "        vertical-align: top;\n",
       "    }\n",
       "\n",
       "    .dataframe thead th {\n",
       "        text-align: right;\n",
       "    }\n",
       "</style>\n",
       "<table border=\"1\" class=\"dataframe\">\n",
       "  <thead>\n",
       "    <tr style=\"text-align: right;\">\n",
       "      <th></th>\n",
       "      <th>batsman</th>\n",
       "      <th>total_runs</th>\n",
       "      <th>out</th>\n",
       "      <th>numberofballs</th>\n",
       "      <th>average</th>\n",
       "      <th>strikerate</th>\n",
       "    </tr>\n",
       "  </thead>\n",
       "  <tbody>\n",
       "    <tr>\n",
       "      <th>243</th>\n",
       "      <td>Iqbal Abdulla</td>\n",
       "      <td>88</td>\n",
       "      <td>1</td>\n",
       "      <td>83</td>\n",
       "      <td>88.000000</td>\n",
       "      <td>106.024096</td>\n",
       "    </tr>\n",
       "    <tr>\n",
       "      <th>109</th>\n",
       "      <td>J Bairstow</td>\n",
       "      <td>459</td>\n",
       "      <td>8</td>\n",
       "      <td>284</td>\n",
       "      <td>57.375000</td>\n",
       "      <td>161.619718</td>\n",
       "    </tr>\n",
       "    <tr>\n",
       "      <th>180</th>\n",
       "      <td>MN van Wyk</td>\n",
       "      <td>167</td>\n",
       "      <td>3</td>\n",
       "      <td>132</td>\n",
       "      <td>55.666667</td>\n",
       "      <td>126.515152</td>\n",
       "    </tr>\n",
       "    <tr>\n",
       "      <th>159</th>\n",
       "      <td>PD Collingwood</td>\n",
       "      <td>203</td>\n",
       "      <td>4</td>\n",
       "      <td>156</td>\n",
       "      <td>50.750000</td>\n",
       "      <td>130.128205</td>\n",
       "    </tr>\n",
       "    <tr>\n",
       "      <th>97</th>\n",
       "      <td>HM Amla</td>\n",
       "      <td>577</td>\n",
       "      <td>13</td>\n",
       "      <td>407</td>\n",
       "      <td>44.384615</td>\n",
       "      <td>141.769042</td>\n",
       "    </tr>\n",
       "    <tr>\n",
       "      <th>8</th>\n",
       "      <td>AB de Villiers</td>\n",
       "      <td>4414</td>\n",
       "      <td>104</td>\n",
       "      <td>2902</td>\n",
       "      <td>42.442308</td>\n",
       "      <td>152.101999</td>\n",
       "    </tr>\n",
       "    <tr>\n",
       "      <th>30</th>\n",
       "      <td>JP Duminy</td>\n",
       "      <td>2031</td>\n",
       "      <td>49</td>\n",
       "      <td>1633</td>\n",
       "      <td>41.448980</td>\n",
       "      <td>124.372321</td>\n",
       "    </tr>\n",
       "    <tr>\n",
       "      <th>3</th>\n",
       "      <td>DA Warner</td>\n",
       "      <td>4717</td>\n",
       "      <td>114</td>\n",
       "      <td>3292</td>\n",
       "      <td>41.377193</td>\n",
       "      <td>143.286756</td>\n",
       "    </tr>\n",
       "    <tr>\n",
       "      <th>5</th>\n",
       "      <td>CH Gayle</td>\n",
       "      <td>4525</td>\n",
       "      <td>110</td>\n",
       "      <td>2972</td>\n",
       "      <td>41.136364</td>\n",
       "      <td>152.254374</td>\n",
       "    </tr>\n",
       "    <tr>\n",
       "      <th>61</th>\n",
       "      <td>ML Hayden</td>\n",
       "      <td>1107</td>\n",
       "      <td>27</td>\n",
       "      <td>802</td>\n",
       "      <td>41.000000</td>\n",
       "      <td>138.029925</td>\n",
       "    </tr>\n",
       "  </tbody>\n",
       "</table>\n",
       "</div>"
      ],
      "text/plain": [
       "            batsman  total_runs  out  numberofballs    average  strikerate\n",
       "243   Iqbal Abdulla          88    1             83  88.000000  106.024096\n",
       "109      J Bairstow         459    8            284  57.375000  161.619718\n",
       "180      MN van Wyk         167    3            132  55.666667  126.515152\n",
       "159  PD Collingwood         203    4            156  50.750000  130.128205\n",
       "97          HM Amla         577   13            407  44.384615  141.769042\n",
       "8    AB de Villiers        4414  104           2902  42.442308  152.101999\n",
       "30        JP Duminy        2031   49           1633  41.448980  124.372321\n",
       "3         DA Warner        4717  114           3292  41.377193  143.286756\n",
       "5          CH Gayle        4525  110           2972  41.136364  152.254374\n",
       "61        ML Hayden        1107   27            802  41.000000  138.029925"
      ]
     },
     "execution_count": 39,
     "metadata": {},
     "output_type": "execute_result"
    }
   ],
   "source": [
    "\n",
    "top_Ten_most_average_player=StrikeRare.nlargest(10,[\"average\"])\n",
    "top_Ten_most_average_player"
   ]
  },
  {
   "cell_type": "code",
   "execution_count": 59,
   "metadata": {},
   "outputs": [
    {
     "data": {
      "text/plain": [
       "<BarContainer object of 10 artists>"
      ]
     },
     "execution_count": 59,
     "metadata": {},
     "output_type": "execute_result"
    },
    {
     "data": {
      "image/png": "[encoded data removed]",
      "text/plain": [
       "<Figure size 1080x720 with 1 Axes>"
      ]
     },
     "metadata": {
      "needs_background": "light"
     },
     "output_type": "display_data"
    }
   ],
   "source": [
    "plt.figure(figsize=(15,10))\n",
    "plt.title(\"Top ten player with maximum average\",fontsize=25,color=\"r\")\n",
    "plt.bar(top_Ten_most_average_player[\"batsman\"],top_Ten_most_average_player[\"average\"],width=.3)\n"
   ]
  },
  {
   "cell_type": "code",
   "execution_count": null,
   "metadata": {},
   "outputs": [],
   "source": []
  }
 ],
 "metadata": {
  "kernelspec": {
   "display_name": "Python 3",
   "language": "python",
   "name": "python3"
  },
  "language_info": {
   "codemirror_mode": {
    "name": "ipython",
    "version": 3
   },
   "file_extension": ".py",
   "mimetype": "text/x-python",
   "name": "python",
   "nbconvert_exporter": "python",
   "pygments_lexer": "ipython3",
   "version": "3.8.5"
  }
 },
 "nbformat": 4,
 "nbformat_minor": 4
}
